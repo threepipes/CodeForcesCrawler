{
 "cells": [
  {
   "cell_type": "code",
   "execution_count": 1,
   "metadata": {
    "collapsed": true
   },
   "outputs": [],
   "source": [
    "from ModificationStatisticsEx import *"
   ]
  },
  {
   "cell_type": "code",
   "execution_count": 2,
   "metadata": {
    "collapsed": false,
    "scrolled": true
   },
   "outputs": [
    {
     "data": {
      "text/plain": [
       "['if',\n",
       " 'else',\n",
       " 'block',\n",
       " 'expr_stmt',\n",
       " 'expr',\n",
       " 'decl_stmt',\n",
       " 'for',\n",
       " 'decl',\n",
       " 'control',\n",
       " 'init',\n",
       " 'type',\n",
       " 'name',\n",
       " 'condition',\n",
       " 'incr',\n",
       " 'then',\n",
       " 'index',\n",
       " 'using',\n",
       " 'unit',\n",
       " 'call',\n",
       " 'argument',\n",
       " 'argument_list',\n",
       " 'while',\n",
       " 'elseif',\n",
       " 'macro',\n",
       " 'return',\n",
       " 'include',\n",
       " 'define',\n",
       " 'function',\n",
       " 'struct',\n",
       " 'parameter_list',\n",
       " 'public',\n",
       " 'parameter',\n",
       " 'constructor',\n",
       " 'range',\n",
       " 'sizeof',\n",
       " 'typedef',\n",
       " 'template',\n",
       " 'class',\n",
       " 'lambda',\n",
       " 'namespace',\n",
       " 'member_init_list',\n",
       " 'ifdef',\n",
       " 'endif',\n",
       " 'ternary',\n",
       " 'capture',\n",
       " 'pragma',\n",
       " 'private',\n",
       " 'label',\n",
       " 'goto',\n",
       " 'switch',\n",
       " 'case',\n",
       " 'function_decl',\n",
       " 'undef',\n",
       " 'ifndef',\n",
       " 'do',\n",
       " 'friend',\n",
       " 'foreach',\n",
       " 'cast',\n",
       " 'throw',\n",
       " 'constructor_decl',\n",
       " 'destructor_decl',\n",
       " 'destructor',\n",
       " 'struct_decl',\n",
       " 'value',\n",
       " 'warning',\n",
       " 'try',\n",
       " 'catch',\n",
       " 'decltype',\n",
       " 'assert',\n",
       " 'enum',\n",
       " 'super',\n",
       " 'class_decl',\n",
       " 'protected',\n",
       " 'typeid',\n",
       " 'file',\n",
       " 'emit',\n",
       " 'line',\n",
       " 'union',\n",
       " 'elif',\n",
       " 'alignas',\n",
       " 'extern']"
      ]
     },
     "execution_count": 2,
     "metadata": {},
     "output_type": "execute_result"
    }
   ],
   "source": [
    "with open('par_tag_list.json') as f:\n",
    "    tag_list = json.load(f)\n",
    "save_dir = 'plot_fix_data_s_par_dc/'\n",
    "tag_list"
   ]
  },
  {
   "cell_type": "code",
   "execution_count": 4,
   "metadata": {
    "collapsed": false
   },
   "outputs": [],
   "source": [
    "for file_name in os.listdir(collect_data_dir):\n",
    "    if ext != '.json':\n",
    "        continue\n",
    "    break\n",
    "name, ext = os.path.splitext(file_name)\n",
    "data_dict = load_collect_data(name)\n",
    "# barh_plot_m2(\n",
    "#     data_dict, get_type_order(), tag_list, xlim=(0, 70),\n",
    "#     title=name, path=(save_dir + '%s.png' % name)\n",
    "# )"
   ]
  },
  {
   "cell_type": "code",
   "execution_count": 5,
   "metadata": {
    "collapsed": false
   },
   "outputs": [
    {
     "data": {
      "text/plain": [
       "44"
      ]
     },
     "execution_count": 5,
     "metadata": {},
     "output_type": "execute_result"
    }
   ],
   "source": [
    "len(data_dict)"
   ]
  },
  {
   "cell_type": "code",
   "execution_count": 6,
   "metadata": {
    "collapsed": false
   },
   "outputs": [
    {
     "data": {
      "text/plain": [
       "{'argument': {'DEL': 644, 'INS': 634, 'MOV': 32, 'UPD': 1},\n",
       " 'argument_list': {'DEL': 670, 'INS': 646, 'MOV': 44},\n",
       " 'block': {'DEL': 1611, 'INS': 3137, 'MOV': 838, 'UPD': 19},\n",
       " 'call': {'DEL': 827, 'INS': 1148, 'MOV': 9, 'UPD': 36},\n",
       " 'case': {'DEL': 2},\n",
       " 'condition': {'DEL': 448, 'INS': 1129, 'MOV': 49},\n",
       " 'control': {'DEL': 308, 'INS': 897, 'MOV': 36},\n",
       " 'decl': {'DEL': 878, 'INS': 1893, 'MOV': 133, 'UPD': 179},\n",
       " 'decl_stmt': {'DEL': 301, 'INS': 513, 'MOV': 130},\n",
       " 'define': {'DEL': 282, 'INS': 90},\n",
       " 'do': {'INS': 2},\n",
       " 'else': {'DEL': 87, 'INS': 214, 'MOV': 28},\n",
       " 'elseif': {'DEL': 78, 'INS': 182, 'MOV': 7},\n",
       " 'endif': {'DEL': 3, 'INS': 1},\n",
       " 'expr': {'DEL': 6595, 'INS': 15799, 'MOV': 1907, 'UPD': 2193},\n",
       " 'expr_stmt': {'DEL': 671, 'INS': 1402, 'MOV': 35},\n",
       " 'for': {'DEL': 246, 'INS': 644, 'MOV': 94},\n",
       " 'function': {'DEL': 122, 'INS': 186, 'MOV': 2, 'UPD': 3},\n",
       " 'function_decl': {'DEL': 3},\n",
       " 'goto': {'DEL': 1},\n",
       " 'if': {'DEL': 895, 'INS': 2053, 'MOV': 234, 'UPD': 3},\n",
       " 'ifndef': {'DEL': 8, 'INS': 2},\n",
       " 'include': {'DEL': 58, 'INS': 78},\n",
       " 'incr': {'DEL': 102, 'INS': 320, 'MOV': 1},\n",
       " 'index': {'DEL': 611, 'INS': 1649, 'MOV': 5},\n",
       " 'init': {'DEL': 294, 'INS': 781, 'MOV': 28},\n",
       " 'label': {'DEL': 1},\n",
       " 'macro': {'DEL': 174, 'INS': 67, 'UPD': 16},\n",
       " 'name': {'DEL': 1934, 'INS': 3919, 'MOV': 155, 'UPD': 354},\n",
       " 'namespace': {'INS': 1},\n",
       " 'parameter': {'DEL': 150, 'INS': 78},\n",
       " 'parameter_list': {'DEL': 136, 'INS': 73, 'MOV': 6},\n",
       " 'public': {'INS': 3},\n",
       " 'return': {'DEL': 61, 'INS': 186, 'MOV': 1},\n",
       " 'sizeof': {'DEL': 4, 'INS': 11},\n",
       " 'struct': {'INS': 3},\n",
       " 'template': {'DEL': 7},\n",
       " 'ternary': {'INS': 11, 'MOV': 3},\n",
       " 'then': {'DEL': 348, 'INS': 818, 'MOV': 39},\n",
       " 'type': {'DEL': 440, 'INS': 738, 'MOV': 30, 'UPD': 238},\n",
       " 'typedef': {'DEL': 12, 'INS': 14, 'UPD': 1},\n",
       " 'unit': {'DEL': 275, 'INS': 263, 'MOV': 11, 'UPD': 2},\n",
       " 'using': {'INS': 1},\n",
       " 'while': {'DEL': 35, 'INS': 67, 'MOV': 11}}"
      ]
     },
     "execution_count": 6,
     "metadata": {},
     "output_type": "execute_result"
    }
   ],
   "source": [
    "data_dict"
   ]
  },
  {
   "cell_type": "code",
   "execution_count": 7,
   "metadata": {
    "collapsed": false
   },
   "outputs": [
    {
     "data": {
      "text/plain": [
       "['incr',\n",
       " 'using',\n",
       " 'argument',\n",
       " 'return',\n",
       " 'typedef',\n",
       " 'namespace',\n",
       " 'endif',\n",
       " 'label',\n",
       " 'goto',\n",
       " 'unit',\n",
       " 'function',\n",
       " 'case',\n",
       " 'ifndef',\n",
       " 'do',\n",
       " 'if',\n",
       " 'function',\n",
       " 'struct',\n",
       " 'public',\n",
       " 'endif',\n",
       " 'ternary',\n",
       " 'function_decl',\n",
       " 'sizeof',\n",
       " 'index',\n",
       " 'parameter_list',\n",
       " 'elseif',\n",
       " 'template',\n",
       " 'ifndef',\n",
       " 'call',\n",
       " 'unit',\n",
       " 'while',\n",
       " 'sizeof',\n",
       " 'ternary',\n",
       " 'typedef',\n",
       " 'typedef',\n",
       " 'macro',\n",
       " 'block',\n",
       " 'else',\n",
       " 'init',\n",
       " 'type',\n",
       " 'argument',\n",
       " 'expr_stmt',\n",
       " 'while',\n",
       " 'control',\n",
       " 'call',\n",
       " 'then',\n",
       " 'argument_list',\n",
       " 'condition',\n",
       " 'include',\n",
       " 'return',\n",
       " 'while',\n",
       " 'macro',\n",
       " 'parameter_list',\n",
       " 'elseif',\n",
       " 'include',\n",
       " 'parameter',\n",
       " 'else',\n",
       " 'define',\n",
       " 'for',\n",
       " 'incr',\n",
       " 'function',\n",
       " 'decl_stmt',\n",
       " 'decl',\n",
       " 'parameter_list',\n",
       " 'parameter',\n",
       " 'name',\n",
       " 'macro',\n",
       " 'decl',\n",
       " 'elseif',\n",
       " 'return',\n",
       " 'function',\n",
       " 'else',\n",
       " 'if',\n",
       " 'type',\n",
       " 'for',\n",
       " 'unit',\n",
       " 'unit',\n",
       " 'define',\n",
       " 'init',\n",
       " 'decl_stmt',\n",
       " 'control',\n",
       " 'incr',\n",
       " 'then',\n",
       " 'name',\n",
       " 'type',\n",
       " 'condition',\n",
       " 'decl_stmt',\n",
       " 'index',\n",
       " 'argument',\n",
       " 'for',\n",
       " 'argument',\n",
       " 'argument_list',\n",
       " 'argument_list',\n",
       " 'expr_stmt',\n",
       " 'type',\n",
       " 'init',\n",
       " 'then',\n",
       " 'call',\n",
       " 'block',\n",
       " 'decl',\n",
       " 'if',\n",
       " 'control',\n",
       " 'condition',\n",
       " 'call',\n",
       " 'expr_stmt',\n",
       " 'block',\n",
       " 'index',\n",
       " 'decl',\n",
       " 'expr',\n",
       " 'name',\n",
       " 'if',\n",
       " 'expr',\n",
       " 'block',\n",
       " 'name',\n",
       " 'expr',\n",
       " 'expr']"
      ]
     },
     "execution_count": 7,
     "metadata": {},
     "output_type": "execute_result"
    }
   ],
   "source": [
    "sort_tags(tag_list, data_dict)"
   ]
  },
  {
   "cell_type": "code",
   "execution_count": null,
   "metadata": {
    "collapsed": true
   },
   "outputs": [],
   "source": [
    "data_list = []\n",
    "for key in tag_list:\n",
    "    ms = data_dict.get(key, {})\n",
    "    for v in ms.values():\n",
    "        data_list"
   ]
  }
 ],
 "metadata": {
  "kernelspec": {
   "display_name": "Python 3",
   "language": "python",
   "name": "python3"
  },
  "language_info": {
   "codemirror_mode": {
    "name": "ipython",
    "version": 3
   },
   "file_extension": ".py",
   "mimetype": "text/x-python",
   "name": "python",
   "nbconvert_exporter": "python",
   "pygments_lexer": "ipython3",
   "version": "3.6.0"
  }
 },
 "nbformat": 4,
 "nbformat_minor": 2
}
